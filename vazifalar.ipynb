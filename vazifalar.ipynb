{
  "cells": [
    {
      "cell_type": "markdown",
      "metadata": {
        "id": "view-in-github",
        "colab_type": "text"
      },
      "source": [
        "<a href=\"https://colab.research.google.com/github/sardornormirzayev/DS/blob/main/vazifalar.ipynb\" target=\"_parent\"><img src=\"https://colab.research.google.com/assets/colab-badge.svg\" alt=\"Open In Colab\"/></a>"
      ]
    },
    {
      "cell_type": "code",
      "execution_count": null,
      "metadata": {
        "id": "1OvQCfcaCWhP"
      },
      "outputs": [],
      "source": [
        "import numpy as np"
      ]
    },
    {
      "cell_type": "code",
      "execution_count": null,
      "metadata": {
        "colab": {
          "base_uri": "https://localhost:8080/"
        },
        "id": "M_UbgoT8MnKx",
        "outputId": "3fa1235f-377d-45ee-8ff7-e63ee9b9c8b9"
      },
      "outputs": [
        {
          "name": "stderr",
          "output_type": "stream",
          "text": [
            "<ipython-input-18-a3b120026965>:2: VisibleDeprecationWarning: Creating an ndarray from ragged nested sequences (which is a list-or-tuple of lists-or-tuples-or ndarrays with different lengths or shapes) is deprecated. If you meant to do this, you must specify 'dtype=object' when creating the ndarray.\n",
            "  arr3 = np.array(data3)\n"
          ]
        }
      ],
      "source": [
        "data3 = [[[1,2,[2,3,4,5],3,[2,2,34],3.4]]]\n",
        "arr3 = np.array(data3)"
      ]
    },
    {
      "cell_type": "code",
      "execution_count": null,
      "metadata": {
        "colab": {
          "base_uri": "https://localhost:8080/"
        },
        "id": "j5hT1ItEP7HV",
        "outputId": "a3757818-fa11-4270-8a3d-cf85bbcfc60f"
      },
      "outputs": [
        {
          "data": {
            "text/plain": [
              "3"
            ]
          },
          "execution_count": 19,
          "metadata": {},
          "output_type": "execute_result"
        }
      ],
      "source": [
        "arr3.ndim # arr3 ning o'lchami"
      ]
    },
    {
      "cell_type": "code",
      "execution_count": null,
      "metadata": {
        "id": "_9JxSKlKFyCc"
      },
      "outputs": [],
      "source": [
        "data4 = [[1,2,4,4],[3,4,5,6]]\n",
        "arr4 = np.array(data4)"
      ]
    },
    {
      "cell_type": "code",
      "execution_count": null,
      "metadata": {
        "colab": {
          "base_uri": "https://localhost:8080/"
        },
        "id": "SmkOUdblPCX8",
        "outputId": "0a3a9819-8caa-4ab6-cda9-1056fbaeb4b6"
      },
      "outputs": [
        {
          "data": {
            "text/plain": [
              "array([list([1, 2, 4, 4, 4]), list([3, 4, 5, 6])], dtype=object)"
            ]
          },
          "execution_count": 38,
          "metadata": {},
          "output_type": "execute_result"
        }
      ],
      "source": [
        "arr4"
      ]
    },
    {
      "cell_type": "code",
      "execution_count": null,
      "metadata": {
        "colab": {
          "base_uri": "https://localhost:8080/"
        },
        "id": "aWWivRUTPN5n",
        "outputId": "bc6fa5ff-f769-4262-d6fe-426c28f7afd7"
      },
      "outputs": [
        {
          "data": {
            "text/plain": [
              "(2, 4)"
            ]
          },
          "execution_count": 43,
          "metadata": {},
          "output_type": "execute_result"
        }
      ],
      "source": [
        "arr4.shape # massivning qator va ustunlarini qaytaradi"
      ]
    },
    {
      "cell_type": "code",
      "execution_count": null,
      "metadata": {
        "colab": {
          "base_uri": "https://localhost:8080/"
        },
        "id": "XqdOPbuWPjtm",
        "outputId": "da4ed842-5227-4408-b4aa-9f065b5f86da"
      },
      "outputs": [
        {
          "data": {
            "text/plain": [
              "8"
            ]
          },
          "execution_count": 42,
          "metadata": {},
          "output_type": "execute_result"
        }
      ],
      "source": [
        "arr4.size # massivning elementlarini sanydi"
      ]
    },
    {
      "cell_type": "code",
      "execution_count": null,
      "metadata": {
        "id": "puhOz6Q5Ppyv"
      },
      "outputs": [],
      "source": [
        "arr5 = np.zeros((2,4)) # elementlari nollardan iborat bolgan 2 ga 4 matritsa yaratadi"
      ]
    },
    {
      "cell_type": "code",
      "execution_count": null,
      "metadata": {
        "colab": {
          "base_uri": "https://localhost:8080/"
        },
        "id": "ekjVuK3sRI5Z",
        "outputId": "e29eca3a-72a2-4e72-d706-77f33d0c6e7a"
      },
      "outputs": [
        {
          "data": {
            "text/plain": [
              "array([[0., 0., 0., 0.],\n",
              "       [0., 0., 0., 0.]])"
            ]
          },
          "execution_count": 47,
          "metadata": {},
          "output_type": "execute_result"
        }
      ],
      "source": [
        "arr5"
      ]
    },
    {
      "cell_type": "code",
      "execution_count": null,
      "metadata": {
        "id": "Rki8Pk9ERUnc"
      },
      "outputs": [],
      "source": [
        "arr6 = np.ones((4,4)) # elementlari 1 lardan iborat bolgan 4 ga 4 matritsa yaratadi"
      ]
    },
    {
      "cell_type": "code",
      "execution_count": null,
      "metadata": {
        "colab": {
          "base_uri": "https://localhost:8080/"
        },
        "id": "7j8z2e7ERozx",
        "outputId": "34025349-84c3-4f38-ee1e-8f60dc396447"
      },
      "outputs": [
        {
          "data": {
            "text/plain": [
              "array([[1., 1., 1., 1.],\n",
              "       [1., 1., 1., 1.],\n",
              "       [1., 1., 1., 1.],\n",
              "       [1., 1., 1., 1.]])"
            ]
          },
          "execution_count": 49,
          "metadata": {},
          "output_type": "execute_result"
        }
      ],
      "source": [
        "arr6"
      ]
    },
    {
      "cell_type": "code",
      "execution_count": null,
      "metadata": {
        "colab": {
          "base_uri": "https://localhost:8080/"
        },
        "id": "VW7H4R1XRqg7",
        "outputId": "7c1e7223-33ea-4aeb-c51d-d48ee62fc871"
      },
      "outputs": [
        {
          "data": {
            "text/plain": [
              "array([[1, 4, 5],\n",
              "       [1, 3, 2],\n",
              "       [3, 6, 7]])"
            ]
          },
          "execution_count": 6,
          "metadata": {},
          "output_type": "execute_result"
        }
      ],
      "source": [
        "import numpy as np\n",
        "arr = np.array([[1,4,5],[1,3,2],[3,6,7]])\n",
        "arr"
      ]
    },
    {
      "cell_type": "code",
      "execution_count": null,
      "metadata": {
        "colab": {
          "base_uri": "https://localhost:8080/"
        },
        "id": "oI-UaJ2f9JQf",
        "outputId": "6bdce371-ac88-4bed-8029-b68500d41ad8"
      },
      "outputs": [
        {
          "data": {
            "text/plain": [
              "2"
            ]
          },
          "execution_count": 5,
          "metadata": {},
          "output_type": "execute_result"
        }
      ],
      "source": [
        "arr.ndim"
      ]
    },
    {
      "cell_type": "code",
      "execution_count": null,
      "metadata": {
        "colab": {
          "base_uri": "https://localhost:8080/"
        },
        "id": "ccwgrdMlIO33",
        "outputId": "1f0eea5e-1ab9-4bfa-cdcd-1610e246e8a9"
      },
      "outputs": [
        {
          "data": {
            "text/plain": [
              "array(['hasan', 'husan', 'olim', 'hasan', 'jobir', 'olim'], dtype='<U5')"
            ]
          },
          "execution_count": 7,
          "metadata": {},
          "output_type": "execute_result"
        }
      ],
      "source": [
        "names = np.array(['hasan','husan','olim','hasan','jobir','olim'])\n",
        "names"
      ]
    },
    {
      "cell_type": "code",
      "execution_count": null,
      "metadata": {
        "colab": {
          "base_uri": "https://localhost:8080/"
        },
        "id": "mZFcGACyIy1G",
        "outputId": "b4b6b993-c3da-4eec-8d0b-9fbeee8f3f2e"
      },
      "outputs": [
        {
          "data": {
            "text/plain": [
              "array([[-1.03409614, -1.13531152, -0.38756889,  0.96258198],\n",
              "       [ 0.38918369, -0.73913739, -0.62445496,  0.61855816],\n",
              "       [ 1.20875153, -0.32946968, -0.37001486, -0.11492947],\n",
              "       [ 2.46082701, -0.16170126,  0.44108679,  0.40723916],\n",
              "       [ 0.69144113,  1.17812723, -0.20121487,  0.37295524],\n",
              "       [-0.60272055, -0.09335407, -0.61776878, -1.1320596 ]])"
            ]
          },
          "execution_count": 8,
          "metadata": {},
          "output_type": "execute_result"
        }
      ],
      "source": [
        "data = np.random.randn(6,4)\n",
        "data"
      ]
    },
    {
      "cell_type": "code",
      "execution_count": null,
      "metadata": {
        "colab": {
          "base_uri": "https://localhost:8080/"
        },
        "id": "gDo5erMxJI0u",
        "outputId": "2614a1a4-5c46-437f-a2c3-f6b27dbc2c07"
      },
      "outputs": [
        {
          "data": {
            "text/plain": [
              "array([[-1.03409614, -1.13531152, -0.38756889,  0.96258198],\n",
              "       [ 2.46082701, -0.16170126,  0.44108679,  0.40723916]])"
            ]
          },
          "execution_count": 11,
          "metadata": {},
          "output_type": "execute_result"
        }
      ],
      "source": [
        "data1 = data[names == 'hasan']\n",
        "data1"
      ]
    },
    {
      "cell_type": "code",
      "execution_count": null,
      "metadata": {
        "colab": {
          "base_uri": "https://localhost:8080/"
        },
        "id": "CO5_Tk1gJU8J",
        "outputId": "28cfea09-3fce-41b5-af28-a847fc2c0a56"
      },
      "outputs": [
        {
          "data": {
            "text/plain": [
              "array([[-1.03409614, -1.13531152, -0.38756889,  0.96258198],\n",
              "       [ 1.20875153, -0.32946968, -0.37001486, -0.11492947],\n",
              "       [ 2.46082701, -0.16170126,  0.44108679,  0.40723916],\n",
              "       [-0.60272055, -0.09335407, -0.61776878, -1.1320596 ]])"
            ]
          },
          "execution_count": 17,
          "metadata": {},
          "output_type": "execute_result"
        }
      ],
      "source": [
        "mask = (names == 'hasan') | (names == 'olim')\n",
        "data[mask]"
      ]
    },
    {
      "cell_type": "code",
      "execution_count": null,
      "metadata": {
        "colab": {
          "base_uri": "https://localhost:8080/"
        },
        "id": "KacPY47LJ3hI",
        "outputId": "b2c6f997-615a-41c6-9f69-aab951cc4f00"
      },
      "outputs": [
        {
          "data": {
            "text/plain": [
              "array([[-1.03409614, -1.13531152, -0.38756889,  0.96258198],\n",
              "       [ 0.38918369, -0.73913739, -0.62445496,  0.61855816],\n",
              "       [ 1.20875153, -0.32946968, -0.37001486, -0.11492947],\n",
              "       [ 2.46082701, -0.16170126,  0.44108679,  0.40723916],\n",
              "       [ 0.69144113,  1.17812723, -0.20121487,  0.37295524],\n",
              "       [-0.60272055, -0.09335407, -0.61776878, -1.1320596 ]])"
            ]
          },
          "execution_count": 18,
          "metadata": {},
          "output_type": "execute_result"
        }
      ],
      "source": [
        "data"
      ]
    },
    {
      "cell_type": "code",
      "execution_count": null,
      "metadata": {
        "colab": {
          "base_uri": "https://localhost:8080/"
        },
        "id": "W7wZLI2uMdUB",
        "outputId": "a9903cf8-3493-445d-deae-189872e2e2fe"
      },
      "outputs": [
        {
          "data": {
            "text/plain": [
              "array([[0.        , 0.        , 0.        , 0.96258198],\n",
              "       [0.38918369, 0.        , 0.        , 0.61855816],\n",
              "       [1.20875153, 0.        , 0.        , 0.        ],\n",
              "       [2.46082701, 0.        , 0.44108679, 0.40723916],\n",
              "       [0.69144113, 1.17812723, 0.        , 0.37295524],\n",
              "       [0.        , 0.        , 0.        , 0.        ]])"
            ]
          },
          "execution_count": 21,
          "metadata": {},
          "output_type": "execute_result"
        }
      ],
      "source": [
        "data[data<0] = 0\n",
        "data"
      ]
    },
    {
      "cell_type": "code",
      "execution_count": null,
      "metadata": {
        "colab": {
          "base_uri": "https://localhost:8080/"
        },
        "id": "2d7--U67MlX_",
        "outputId": "49107e4e-fa63-45ff-dcbb-920d6abeede2"
      },
      "outputs": [
        {
          "data": {
            "text/plain": [
              "array([0, 1, 2, 3, 4, 5, 6, 7, 8, 9])"
            ]
          },
          "execution_count": 7,
          "metadata": {},
          "output_type": "execute_result"
        }
      ],
      "source": [
        "arr1 = np.arange(10)\n",
        "arr1\n"
      ]
    },
    {
      "cell_type": "code",
      "execution_count": null,
      "metadata": {
        "colab": {
          "base_uri": "https://localhost:8080/"
        },
        "id": "MDHpQIKHDtPZ",
        "outputId": "3f02936a-6c3f-4c7f-b4e2-0a42063b9115"
      },
      "outputs": [
        {
          "data": {
            "text/plain": [
              "array([0.59338584, 1.21512812, 0.14094286, 2.13652182, 0.50137393,\n",
              "       0.75097513, 0.25134907, 0.75685416, 0.14161131, 1.00075192])"
            ]
          },
          "execution_count": 6,
          "metadata": {},
          "output_type": "execute_result"
        }
      ],
      "source": [
        "modul = abs(arr1) # abs massiv elementlarini moduldan chaqadi\n",
        "modul"
      ]
    },
    {
      "cell_type": "code",
      "execution_count": null,
      "metadata": {
        "colab": {
          "base_uri": "https://localhost:8080/"
        },
        "id": "sZjvJy65D6OG",
        "outputId": "1c058b65-7b93-4ab8-c15a-a9c8fc26731a"
      },
      "outputs": [
        {
          "data": {
            "text/plain": [
              "array([0.        , 1.        , 1.41421356, 1.73205081, 2.        ,\n",
              "       2.23606798, 2.44948974, 2.64575131, 2.82842712, 3.        ])"
            ]
          },
          "execution_count": 10,
          "metadata": {},
          "output_type": "execute_result"
        }
      ],
      "source": [
        "ildiz = np.sqrt(arr1)\n",
        "ildiz"
      ]
    },
    {
      "cell_type": "code",
      "execution_count": null,
      "metadata": {
        "colab": {
          "base_uri": "https://localhost:8080/"
        },
        "id": "cD4W50HuEmFU",
        "outputId": "22d69596-1091-4ec7-a5c3-1eeb344fe2f8"
      },
      "outputs": [
        {
          "data": {
            "text/plain": [
              "array([ 0,  1,  4,  9, 16, 25, 36, 49, 64, 81])"
            ]
          },
          "execution_count": 12,
          "metadata": {},
          "output_type": "execute_result"
        }
      ],
      "source": [
        "kvadrat = np.square(arr1)\n",
        "kvadrat"
      ]
    },
    {
      "cell_type": "code",
      "execution_count": null,
      "metadata": {
        "colab": {
          "base_uri": "https://localhost:8080/"
        },
        "id": "JKLWMkigFOtf",
        "outputId": "5a88deb1-0e82-4a3b-b683-2554ceb8d715"
      },
      "outputs": [
        {
          "data": {
            "text/plain": [
              "array([1.00000000e+00, 2.71828183e+00, 7.38905610e+00, 2.00855369e+01,\n",
              "       5.45981500e+01, 1.48413159e+02, 4.03428793e+02, 1.09663316e+03,\n",
              "       2.98095799e+03, 8.10308393e+03])"
            ]
          },
          "execution_count": 14,
          "metadata": {},
          "output_type": "execute_result"
        }
      ],
      "source": [
        "e_darajasi = np.exp(arr1)\n",
        "e_darajasi"
      ]
    },
    {
      "cell_type": "code",
      "execution_count": null,
      "metadata": {
        "colab": {
          "base_uri": "https://localhost:8080/"
        },
        "id": "6wwAoQKkFaCh",
        "outputId": "ec602839-7200-4b9d-d99b-b0bb8fe2ef16"
      },
      "outputs": [
        {
          "data": {
            "text/plain": [
              "1.0000000005668856"
            ]
          },
          "execution_count": 15,
          "metadata": {},
          "output_type": "execute_result"
        }
      ],
      "source": [
        "lagarifm = np.log(2.71828183e+00)\n",
        "lagarifm"
      ]
    },
    {
      "cell_type": "code",
      "execution_count": null,
      "metadata": {
        "colab": {
          "base_uri": "https://localhost:8080/"
        },
        "id": "TWPssRZIFzBd",
        "outputId": "cfa1ed16-5032-47fc-9b4c-4586d183d562"
      },
      "outputs": [
        {
          "data": {
            "text/plain": [
              "6.0"
            ]
          },
          "execution_count": 17,
          "metadata": {},
          "output_type": "execute_result"
        }
      ],
      "source": [
        "logarifm_2 = np.log2(64)\n",
        "logarifm_2"
      ]
    },
    {
      "cell_type": "code",
      "execution_count": null,
      "metadata": {
        "colab": {
          "base_uri": "https://localhost:8080/"
        },
        "id": "b2UkxB7MGFGH",
        "outputId": "bf97b490-41c9-4786-9ae9-664059ef0812"
      },
      "outputs": [
        {
          "data": {
            "text/plain": [
              "5.0"
            ]
          },
          "execution_count": 19,
          "metadata": {},
          "output_type": "execute_result"
        }
      ],
      "source": [
        "lagarifm_10 = np.log10(100000)\n",
        "lagarifm_10"
      ]
    },
    {
      "cell_type": "code",
      "execution_count": null,
      "metadata": {
        "colab": {
          "base_uri": "https://localhost:8080/"
        },
        "id": "HcAvaCAdGWWf",
        "outputId": "ae60e3f8-c3c7-4567-c05a-696b9395cea6"
      },
      "outputs": [
        {
          "data": {
            "text/plain": [
              "2.3978952727983707"
            ]
          },
          "execution_count": 27,
          "metadata": {},
          "output_type": "execute_result"
        }
      ],
      "source": [
        "lagarifm = np.log1p(10)  # log1p = log(1+x) ga teng\n",
        "lagarifm1 = np.log(11)\n",
        "lagarifm1\n",
        "lagarifm # Bu yerda lagarifm1 va lagarifm ikkitasini qiymatlari bir xil"
      ]
    },
    {
      "cell_type": "code",
      "execution_count": null,
      "metadata": {
        "colab": {
          "base_uri": "https://localhost:8080/"
        },
        "id": "DMpdoHRxHhYJ",
        "outputId": "4b596833-9fa7-4d16-f36c-000e28ca6c69"
      },
      "outputs": [
        {
          "data": {
            "text/plain": [
              "array([-1., -1., -1.,  1.,  1.,  1.,  1.,  1.,  1.,  1.])"
            ]
          },
          "execution_count": 34,
          "metadata": {},
          "output_type": "execute_result"
        }
      ],
      "source": [
        "arr2 = np.random.randn(10)\n",
        "belgi = np.sign(arr2)\n",
        "belgi"
      ]
    },
    {
      "cell_type": "code",
      "execution_count": null,
      "metadata": {
        "colab": {
          "base_uri": "https://localhost:8080/"
        },
        "id": "e2yzpyC9H_Z_",
        "outputId": "9c9ab23e-c017-4407-e1f0-bd56a5240b9d"
      },
      "outputs": [
        {
          "data": {
            "text/plain": [
              "array([2., 2., 2., 2., 2.])"
            ]
          },
          "execution_count": 36,
          "metadata": {},
          "output_type": "execute_result"
        }
      ],
      "source": [
        "arr3 = np.array([1.5,1.2,1.4,1.7,1.1])\n",
        "yaxlitlash = np.ceil(arr3) # yuqoriga yaxlitlash\n",
        "yaxlitlash"
      ]
    },
    {
      "cell_type": "code",
      "execution_count": null,
      "metadata": {
        "colab": {
          "base_uri": "https://localhost:8080/"
        },
        "id": "3QXY8lQtITVT",
        "outputId": "5d314534-33d4-4fef-9a4a-dcd257b25bdc"
      },
      "outputs": [
        {
          "data": {
            "text/plain": [
              "array([1., 1., 1., 1., 1.])"
            ]
          },
          "execution_count": 37,
          "metadata": {},
          "output_type": "execute_result"
        }
      ],
      "source": [
        "yaxlitlash = np.floor(arr3) # pastga yaxlitlash\n",
        "yaxlitlash"
      ]
    },
    {
      "cell_type": "code",
      "execution_count": null,
      "metadata": {
        "colab": {
          "base_uri": "https://localhost:8080/"
        },
        "id": "2-DT4F5Qbr69",
        "outputId": "8241d8eb-15a9-4349-a4f2-b9b962bc04ed"
      },
      "outputs": [
        {
          "data": {
            "text/plain": [
              "array([2., 1., 1., 2., 1.])"
            ]
          },
          "execution_count": 39,
          "metadata": {},
          "output_type": "execute_result"
        }
      ],
      "source": [
        "int_yaxlitlash = np.rint(arr3) # rint martematik yaxlitlaydi\n",
        "int_yaxlitlash"
      ]
    },
    {
      "cell_type": "code",
      "execution_count": null,
      "metadata": {
        "colab": {
          "base_uri": "https://localhost:8080/"
        },
        "id": "ysgw9iXZiuw8",
        "outputId": "97e3694c-3024-4683-c5d1-2f5425155e1b"
      },
      "outputs": [
        {
          "data": {
            "text/plain": [
              "array([ 0.5853004 , -0.66714191,  0.36492899,  1.24302435, -1.08478956,\n",
              "       -0.50819974, -0.66082628, -0.31047032,  0.52707584,  1.90916606])"
            ]
          },
          "execution_count": 44,
          "metadata": {},
          "output_type": "execute_result"
        }
      ],
      "source": [
        "arr4 = np.random.randn(10)\n",
        "arr4"
      ]
    },
    {
      "cell_type": "code",
      "execution_count": null,
      "metadata": {
        "id": "NKrnrl4Y3EPJ"
      },
      "outputs": [],
      "source": [
        "qoldiq,butun = np.modf(arr4) # modf bu sonning qoldiq va butun qismlarini ikkita alohida arraylarda qaytaradi"
      ]
    },
    {
      "cell_type": "code",
      "execution_count": null,
      "metadata": {
        "colab": {
          "base_uri": "https://localhost:8080/"
        },
        "id": "C7zQpFC23N5w",
        "outputId": "cf0f1c26-e09b-4f6c-fa08-72978db52c9b"
      },
      "outputs": [
        {
          "name": "stdout",
          "output_type": "stream",
          "text": [
            "[ 0.5853004  -0.66714191  0.36492899  0.24302435 -0.08478956 -0.50819974\n",
            " -0.66082628 -0.31047032  0.52707584  0.90916606]\n",
            "[ 0. -0.  0.  1. -1. -0. -0. -0.  0.  1.]\n"
          ]
        }
      ],
      "source": [
        "print(qoldiq)\n",
        "print(butun)"
      ]
    },
    {
      "cell_type": "code",
      "execution_count": null,
      "metadata": {
        "colab": {
          "base_uri": "https://localhost:8080/"
        },
        "id": "wCx7oWyn4GKW",
        "outputId": "bcf3b3bc-4e35-4a6a-91b6-b69fdadee8c1"
      },
      "outputs": [
        {
          "data": {
            "text/plain": [
              "array([False, False, False, False, False, False, False, False, False,\n",
              "       False])"
            ]
          },
          "execution_count": 49,
          "metadata": {},
          "output_type": "execute_result"
        }
      ],
      "source": [
        "np.isnan(arr4) # arr4 ni elementlarini isnan yoki yoqligini tekshiryapti"
      ]
    },
    {
      "cell_type": "code",
      "execution_count": null,
      "metadata": {
        "colab": {
          "base_uri": "https://localhost:8080/"
        },
        "id": "DH6ThwRs5UNU",
        "outputId": "1442609e-5d32-482b-c9b8-3cacbfa3800f"
      },
      "outputs": [
        {
          "data": {
            "text/plain": [
              "array([ True, False, False, False, False, False, False, False, False,\n",
              "       False])"
            ]
          },
          "execution_count": 51,
          "metadata": {},
          "output_type": "execute_result"
        }
      ],
      "source": [
        "arr4[0] = np.NaN # arr4 massivni 0 - elementini typini NaN ga ozgartiryapti\n",
        "# NaN (Not a Number)\n",
        "np.isnan(arr4) # isnan bu yerda raqm borligini tekshiryapti"
      ]
    },
    {
      "cell_type": "code",
      "execution_count": null,
      "metadata": {
        "colab": {
          "base_uri": "https://localhost:8080/"
        },
        "id": "MskAzL905eTy",
        "outputId": "b8df7353-462a-4097-fdcf-fe28a28ebe15"
      },
      "outputs": [
        {
          "data": {
            "text/plain": [
              "array([[ 0.54030231, -0.41614684, -0.9899925 ],\n",
              "       [-0.65364362,  0.28366219,  0.96017029],\n",
              "       [ 0.75390225, -0.14550003, -0.91113026]])"
            ]
          },
          "execution_count": 7,
          "metadata": {},
          "output_type": "execute_result"
        }
      ],
      "source": [
        "arr5 = np.array([1,2,3,4,5,6,7,8,9]).reshape(3,3)\n",
        "cos = np.cos(arr5)\n",
        "cos"
      ]
    },
    {
      "cell_type": "code",
      "execution_count": null,
      "metadata": {
        "colab": {
          "base_uri": "https://localhost:8080/"
        },
        "id": "yi8FzUJf2dr5",
        "outputId": "ebdc9646-2757-4f4d-a4c2-7c3df16344c6"
      },
      "outputs": [
        {
          "data": {
            "text/plain": [
              "array([[1.54308063e+00, 3.76219569e+00, 1.00676620e+01],\n",
              "       [2.73082328e+01, 7.42099485e+01, 2.01715636e+02],\n",
              "       [5.48317035e+02, 1.49047916e+03, 4.05154203e+03]])"
            ]
          },
          "execution_count": 8,
          "metadata": {},
          "output_type": "execute_result"
        }
      ],
      "source": [
        "cosh = np.cosh(arr5)\n",
        "cosh"
      ]
    },
    {
      "cell_type": "code",
      "execution_count": null,
      "metadata": {
        "colab": {
          "base_uri": "https://localhost:8080/"
        },
        "id": "kgGdf6Mn234h",
        "outputId": "d12478c6-a0c9-471e-c0aa-e1698a7f28e8"
      },
      "outputs": [
        {
          "data": {
            "text/plain": [
              "1.5707963267948966"
            ]
          },
          "execution_count": 11,
          "metadata": {},
          "output_type": "execute_result"
        }
      ],
      "source": [
        "arccos = np.arccos(0)\n",
        "arccos"
      ]
    },
    {
      "cell_type": "code",
      "execution_count": null,
      "metadata": {
        "colab": {
          "base_uri": "https://localhost:8080/"
        },
        "id": "3T8c6lfK3NxJ",
        "outputId": "3b725464-9bf2-4597-8c1f-d9793a53e9f2"
      },
      "outputs": [
        {
          "data": {
            "text/plain": [
              "array([-0.95684318, -1.47471008,  1.39206728, -0.70101315,  0.13492885,\n",
              "       -0.31179458])"
            ]
          },
          "execution_count": 23,
          "metadata": {},
          "output_type": "execute_result"
        }
      ],
      "source": [
        "arr6 = np.random.randn(6)\n",
        "arr7 = np.random.randn(6)\n",
        "arr6"
      ]
    },
    {
      "cell_type": "code",
      "execution_count": null,
      "metadata": {
        "colab": {
          "base_uri": "https://localhost:8080/"
        },
        "id": "su49FEVk4EGs",
        "outputId": "6d8eebb4-2941-46f4-8172-a9fba962cf0a"
      },
      "outputs": [
        {
          "data": {
            "text/plain": [
              "array([-0.08493935,  0.38359991, -0.91716614,  1.31008026,  0.50216063,\n",
              "       -0.93189995])"
            ]
          },
          "execution_count": 24,
          "metadata": {},
          "output_type": "execute_result"
        }
      ],
      "source": [
        "arr7"
      ]
    },
    {
      "cell_type": "code",
      "execution_count": null,
      "metadata": {
        "colab": {
          "base_uri": "https://localhost:8080/"
        },
        "id": "49ZAz7-68bT7",
        "outputId": "e20f27ca-1fe5-4868-ccc5-389798f416a2"
      },
      "outputs": [
        {
          "data": {
            "text/plain": [
              "array([-1.04178253, -1.09111017,  0.47490114,  0.60906711,  0.63708949,\n",
              "       -1.24369453])"
            ]
          },
          "execution_count": 25,
          "metadata": {},
          "output_type": "execute_result"
        }
      ],
      "source": [
        "add = np.add(arr6,arr7) # add bu arraylarni mos elementlarini qoshadi\n",
        "add"
      ]
    },
    {
      "cell_type": "code",
      "execution_count": null,
      "metadata": {
        "colab": {
          "base_uri": "https://localhost:8080/"
        },
        "id": "ArAqAwUY9HoE",
        "outputId": "706ed67a-3f9c-4498-c6d9-58c92a917925"
      },
      "outputs": [
        {
          "data": {
            "text/plain": [
              "array([-0.87190383, -1.85831   ,  2.30923342, -2.01109342, -0.36723178,\n",
              "        0.62010536])"
            ]
          },
          "execution_count": 26,
          "metadata": {},
          "output_type": "execute_result"
        }
      ],
      "source": [
        "subtract = np.subtract(arr6,arr7) # subtract bu array mos elementlarini ayiradi\n",
        "subtract"
      ]
    },
    {
      "cell_type": "code",
      "execution_count": null,
      "metadata": {
        "colab": {
          "base_uri": "https://localhost:8080/"
        },
        "id": "ATqvvDxL9W1i",
        "outputId": "a6f74107-21d6-4a81-ba6c-d7bbcf8d74ce"
      },
      "outputs": [
        {
          "data": {
            "text/plain": [
              "array([ 0.08127364, -0.56569866, -1.27675698, -0.9183835 ,  0.06775596,\n",
              "        0.29056136])"
            ]
          },
          "execution_count": 29,
          "metadata": {},
          "output_type": "execute_result"
        }
      ],
      "source": [
        "multi = np.multiply(arr6,arr7) # multiply bu array elementlarini kopaytiradi\n",
        "multi"
      ]
    },
    {
      "cell_type": "code",
      "execution_count": null,
      "metadata": {
        "colab": {
          "base_uri": "https://localhost:8080/"
        },
        "id": "jda4Ayo_9o44",
        "outputId": "288cd14c-fecc-4136-f49c-e207215c6ed2"
      },
      "outputs": [
        {
          "data": {
            "text/plain": [
              "array([ 1,  4,  9, 16, 25, 36, 49, 64, 81])"
            ]
          },
          "execution_count": 31,
          "metadata": {},
          "output_type": "execute_result"
        }
      ],
      "source": [
        "arr8 = np.array([1,2,3,4,5,6,7,8,9]) # array elementlarini koratilgan darajaga oshiradi\n",
        "pow = np.power(arr8,2)\n",
        "pow"
      ]
    },
    {
      "cell_type": "code",
      "execution_count": null,
      "metadata": {
        "colab": {
          "base_uri": "https://localhost:8080/"
        },
        "id": "fW0ZxFCQ_Yce",
        "outputId": "aaab5ad3-eff7-43d0-bbba-b2f11bca9f61"
      },
      "outputs": [
        {
          "data": {
            "text/plain": [
              "array([-0.08493935,  0.38359991,  1.39206728,  1.31008026,  0.50216063,\n",
              "       -0.31179458])"
            ]
          },
          "execution_count": 38,
          "metadata": {},
          "output_type": "execute_result"
        }
      ],
      "source": [
        "max1 = np.maximum(arr6,arr7) # maxsimum array mos elementlarini solishtirib maxlarini qaytaradi fmax esa NaN larni hisobga olmaydi\n",
        "max1"
      ]
    },
    {
      "cell_type": "code",
      "execution_count": null,
      "metadata": {
        "colab": {
          "base_uri": "https://localhost:8080/"
        },
        "id": "60t7UYrn_3KY",
        "outputId": "bac44521-fff3-41df-b041-2b314ca63710"
      },
      "outputs": [
        {
          "data": {
            "text/plain": [
              "array([-0.95684318, -1.47471008, -0.91716614, -0.70101315,  0.13492885,\n",
              "       -0.93189995])"
            ]
          },
          "execution_count": 39,
          "metadata": {},
          "output_type": "execute_result"
        }
      ],
      "source": [
        "min = np.minimum(arr6,arr7) # minimum bu arraylar mos elementlarini tekshirib minimumlarini qaytaradi fmin esa NaN larni hisobga olmaydi\n",
        "min"
      ]
    },
    {
      "cell_type": "code",
      "execution_count": null,
      "metadata": {
        "colab": {
          "base_uri": "https://localhost:8080/"
        },
        "id": "g99IS9ePBEYv",
        "outputId": "794e9b1f-9cc4-45db-84f5-cbdb161229c1"
      },
      "outputs": [
        {
          "data": {
            "text/plain": [
              "array([-0.0225103 ,  0.05968957, -0.442265  ,  0.60906711,  0.13492885,\n",
              "       -0.31179458])"
            ]
          },
          "execution_count": 40,
          "metadata": {},
          "output_type": "execute_result"
        }
      ],
      "source": [
        "mod = np.mod(arr6,arr7)\n",
        "mod"
      ]
    },
    {
      "cell_type": "code",
      "execution_count": null,
      "metadata": {
        "id": "B0qANcI3CQPZ"
      },
      "outputs": [],
      "source": [
        "# Massivlar\n",
        "xarr = np.array([1.1,1.2,1.3,1.4,1.5])\n",
        "yarr = np.array([2.1,2.2,2.3,2.4,2.5])"
      ]
    },
    {
      "cell_type": "code",
      "execution_count": null,
      "metadata": {
        "id": "jDPZgeGUCcm3"
      },
      "outputs": [],
      "source": [
        "# Shartlar\n",
        "con = np.array([True,False,True,True,False])"
      ]
    },
    {
      "cell_type": "code",
      "execution_count": null,
      "metadata": {
        "colab": {
          "base_uri": "https://localhost:8080/"
        },
        "id": "sM-8r6t5NjN7",
        "outputId": "941fb237-17e3-4125-dd47-1bece0065204"
      },
      "outputs": [
        {
          "data": {
            "text/plain": [
              "array([2.1, 1.2, 2.3, 2.4, 1.5])"
            ]
          },
          "execution_count": 47,
          "metadata": {},
          "output_type": "execute_result"
        }
      ],
      "source": [
        "# Where\n",
        "result = np.where(con,yarr,xarr)\n",
        "result"
      ]
    },
    {
      "cell_type": "code",
      "execution_count": null,
      "metadata": {
        "colab": {
          "base_uri": "https://localhost:8080/"
        },
        "id": "NePbmYcEOSbG",
        "outputId": "e36e302e-0d97-472d-cf39-0b4add4861fb"
      },
      "outputs": [
        {
          "data": {
            "text/plain": [
              "array([[ 1.39200441,  1.46470427, -0.06283879, -1.39443911],\n",
              "       [ 1.69161415, -2.02667149, -0.30597886,  0.67351089],\n",
              "       [-1.36168337, -0.67937035, -0.60381664,  0.12293003],\n",
              "       [-0.09512854, -0.48545254,  0.00551096,  0.91563483]])"
            ]
          },
          "execution_count": 48,
          "metadata": {},
          "output_type": "execute_result"
        }
      ],
      "source": [
        "guess = np.random.randn(4,4)\n",
        "guess"
      ]
    },
    {
      "cell_type": "code",
      "execution_count": null,
      "metadata": {
        "colab": {
          "base_uri": "https://localhost:8080/"
        },
        "id": "dOAu6fQXOyVn",
        "outputId": "12c922ab-3284-42a5-f982-e92cceff2953"
      },
      "outputs": [
        {
          "data": {
            "text/plain": [
              "array([['a', 'a', 'b', 'b'],\n",
              "       ['a', 'b', 'b', 'a'],\n",
              "       ['b', 'b', 'b', 'a'],\n",
              "       ['b', 'b', 'a', 'a']], dtype='<U1')"
            ]
          },
          "execution_count": 52,
          "metadata": {},
          "output_type": "execute_result"
        }
      ],
      "source": [
        "change = np.where(guess>0,'a','b')\n",
        "change"
      ]
    },
    {
      "cell_type": "code",
      "execution_count": null,
      "metadata": {
        "colab": {
          "background_save": true
        },
        "id": "Iuq6g61rPEOY"
      },
      "outputs": [],
      "source": [
        "arr1 = np.arange(6).reshape(2,3)\n",
        "arr2 = np.arange(6,12).reshape(2,3)"
      ]
    },
    {
      "cell_type": "code",
      "execution_count": null,
      "metadata": {
        "colab": {
          "base_uri": "https://localhost:8080/"
        },
        "id": "5gwA7__hTIfw",
        "outputId": "76004489-c356-4592-8150-507ca38f47e0"
      },
      "outputs": [
        {
          "data": {
            "text/plain": [
              "array([[0, 1, 2],\n",
              "       [3, 4, 5]])"
            ]
          },
          "execution_count": 59,
          "metadata": {},
          "output_type": "execute_result"
        }
      ],
      "source": [
        "arr1"
      ]
    },
    {
      "cell_type": "code",
      "execution_count": null,
      "metadata": {
        "colab": {
          "base_uri": "https://localhost:8080/"
        },
        "id": "ddnFsBANTJjB",
        "outputId": "09e55d52-f7a4-492d-d612-1c7d391ca1c6"
      },
      "outputs": [
        {
          "data": {
            "text/plain": [
              "array([[ 6,  7,  8],\n",
              "       [ 9, 10, 11]])"
            ]
          },
          "execution_count": 60,
          "metadata": {},
          "output_type": "execute_result"
        }
      ],
      "source": [
        "arr2"
      ]
    },
    {
      "cell_type": "code",
      "execution_count": null,
      "metadata": {
        "colab": {
          "base_uri": "https://localhost:8080/"
        },
        "id": "8aoZwreyTKRu",
        "outputId": "77bba23f-381e-412f-dde4-9faeaf0f94c0"
      },
      "outputs": [
        {
          "data": {
            "text/plain": [
              "array([[ 0,  7, 16],\n",
              "       [27, 40, 55]])"
            ]
          },
          "execution_count": 61,
          "metadata": {},
          "output_type": "execute_result"
        }
      ],
      "source": [
        "arr1*arr2 # arr1 ning elementlarini arr2 ni mos elemetlariga kopaytiradi"
      ]
    },
    {
      "cell_type": "code",
      "execution_count": null,
      "metadata": {
        "colab": {
          "base_uri": "https://localhost:8080/"
        },
        "id": "uyhV_D2ATOaC",
        "outputId": "903658b5-fb90-4278-ce23-b11208c85bd2"
      },
      "outputs": [
        {
          "data": {
            "text/plain": [
              "array([[ 6,  8, 10],\n",
              "       [12, 14, 16]])"
            ]
          },
          "execution_count": 62,
          "metadata": {},
          "output_type": "execute_result"
        }
      ],
      "source": [
        "arr1+arr2  # arr1 ning elementlarini arr2 ni mos elemetlariga qoshadi"
      ]
    },
    {
      "cell_type": "code",
      "execution_count": null,
      "metadata": {
        "colab": {
          "base_uri": "https://localhost:8080/"
        },
        "id": "bc_oHW0_T2GK",
        "outputId": "6758b846-32bb-4652-aa3e-e1cc360cfb83"
      },
      "outputs": [
        {
          "data": {
            "text/plain": [
              "array([[6, 6, 6],\n",
              "       [6, 6, 6]])"
            ]
          },
          "execution_count": 64,
          "metadata": {},
          "output_type": "execute_result"
        }
      ],
      "source": [
        "arr2 - arr1 #arr1 ning elementlarini arr2 ni mos elemetlariga ayiradi"
      ]
    },
    {
      "cell_type": "code",
      "execution_count": null,
      "metadata": {
        "colab": {
          "base_uri": "https://localhost:8080/"
        },
        "id": "JMP6PviHT7EB",
        "outputId": "d20e089f-7e65-42e1-f9bd-879342e85b71"
      },
      "outputs": [
        {
          "name": "stderr",
          "output_type": "stream",
          "text": [
            "<ipython-input-65-e2e60495effe>:1: RuntimeWarning: divide by zero encountered in divide\n",
            "  arr2/arr1\n"
          ]
        },
        {
          "data": {
            "text/plain": [
              "array([[inf, 7. , 4. ],\n",
              "       [3. , 2.5, 2.2]])"
            ]
          },
          "execution_count": 65,
          "metadata": {},
          "output_type": "execute_result"
        }
      ],
      "source": [
        "arr2/arr1 # arr1 ning elementlarini arr2 ni mos elemetlariga boladi"
      ]
    },
    {
      "cell_type": "code",
      "execution_count": null,
      "metadata": {
        "colab": {
          "base_uri": "https://localhost:8080/"
        },
        "id": "5NAjhIwOUDEH",
        "outputId": "861fa9bc-f3c8-4855-eccf-bb6f4fd2df91"
      },
      "outputs": [
        {
          "data": {
            "text/plain": [
              "array([[ 0,  1,  4],\n",
              "       [ 9, 16, 25]])"
            ]
          },
          "execution_count": 66,
          "metadata": {},
          "output_type": "execute_result"
        }
      ],
      "source": [
        "arr1 ** 2 # arr1 ning elementlarini darajga kotaradi"
      ]
    },
    {
      "cell_type": "code",
      "execution_count": null,
      "metadata": {
        "colab": {
          "base_uri": "https://localhost:8080/"
        },
        "id": "gicXtzXCUZ4O",
        "outputId": "dafe1d18-ec2e-4faa-e3de-7128905a35cf"
      },
      "outputs": [
        {
          "data": {
            "text/plain": [
              "array([[2.44948974, 2.64575131, 2.82842712],\n",
              "       [3.        , 3.16227766, 3.31662479]])"
            ]
          },
          "execution_count": 67,
          "metadata": {},
          "output_type": "execute_result"
        }
      ],
      "source": [
        "arr2 ** 0.5 # arr2 ning elementlarini kvadrat ildizdan chiqaradi"
      ]
    },
    {
      "cell_type": "code",
      "execution_count": null,
      "metadata": {
        "colab": {
          "base_uri": "https://localhost:8080/"
        },
        "id": "f07Ae-z2Ulg7",
        "outputId": "d7a1d506-7190-4af6-e0ba-ae4d96e76090"
      },
      "outputs": [
        {
          "data": {
            "text/plain": [
              "array([[ 0.59270671, -0.99479871, -0.55728433,  0.82320406],\n",
              "       [ 0.8407184 , -0.77430557,  2.67337045,  0.78530054],\n",
              "       [-0.48925887, -0.7076368 ,  0.75434423,  1.10363617],\n",
              "       [ 0.3626334 ,  2.02907771,  1.34591957, -0.79962599],\n",
              "       [ 0.988608  ,  1.12392406, -0.76159153,  1.01795942]])"
            ]
          },
          "execution_count": 68,
          "metadata": {},
          "output_type": "execute_result"
        }
      ],
      "source": [
        "arrr = np.random.randn(5,4)\n",
        "arrr"
      ]
    },
    {
      "cell_type": "code",
      "execution_count": null,
      "metadata": {
        "colab": {
          "base_uri": "https://localhost:8080/"
        },
        "id": "mzEGTiTcajay",
        "outputId": "45857254-cacc-4054-9083-3c9031e4cfc2"
      },
      "outputs": [
        {
          "data": {
            "text/plain": [
              "array([[ 0.59270671, -0.99479871, -0.55728433,  0.82320406],\n",
              "       [ 0.8407184 , -0.77430557,  2.67337045,  0.78530054],\n",
              "       [-0.48925887, -0.7076368 ,  0.75434423,  1.10363617],\n",
              "       [ 0.3626334 ,  2.02907771,  1.34591957, -0.79962599],\n",
              "       [ 0.988608  ,  1.12392406, -0.76159153,  1.01795942]])"
            ]
          },
          "execution_count": 69,
          "metadata": {},
          "output_type": "execute_result"
        }
      ],
      "source": [
        "arrr.sum() # sum metodi arrr massivning barcha elementlarini yigindisini hisoblaydi\n",
        "arrr"
      ]
    },
    {
      "cell_type": "code",
      "execution_count": null,
      "metadata": {
        "colab": {
          "base_uri": "https://localhost:8080/"
        },
        "id": "fUJCGxOaapkp",
        "outputId": "3a0ecdf3-472d-4db8-c351-11affc120b47"
      },
      "outputs": [
        {
          "data": {
            "text/plain": [
              "array([-0.13617226,  3.52508384,  0.66108473,  2.93800468,  2.36889995])"
            ]
          },
          "execution_count": 70,
          "metadata": {},
          "output_type": "execute_result"
        }
      ],
      "source": [
        "arrr.sum(axis=1) # massivning qatorlar yigindisini hisoblaydi"
      ]
    },
    {
      "cell_type": "code",
      "execution_count": null,
      "metadata": {
        "colab": {
          "base_uri": "https://localhost:8080/"
        },
        "id": "dHP1wrbobDI3",
        "outputId": "01c7742a-6d3c-4ef4-9c9c-8448aec813d8"
      },
      "outputs": [
        {
          "data": {
            "text/plain": [
              "array([2.29540764, 0.67626069, 3.4547584 , 2.93047421])"
            ]
          },
          "execution_count": 71,
          "metadata": {},
          "output_type": "execute_result"
        }
      ],
      "source": [
        "np.sum(arrr,axis=0) # massivning ustunlar yigindisini hisoblaydi"
      ]
    },
    {
      "cell_type": "code",
      "execution_count": null,
      "metadata": {
        "colab": {
          "base_uri": "https://localhost:8080/"
        },
        "id": "pRxi51pEbiwp",
        "outputId": "a8e2e472-f1ff-42ce-a7be-bda965b5f14e"
      },
      "outputs": [
        {
          "data": {
            "text/plain": [
              "-0.9947987097118863"
            ]
          },
          "execution_count": 74,
          "metadata": {},
          "output_type": "execute_result"
        }
      ],
      "source": [
        "np.max(arrr) # massivning eng katta elementini qaytaradi\n",
        "np.min(arrr) # massivning eng kichik elementini qaytaradi"
      ]
    },
    {
      "cell_type": "code",
      "execution_count": null,
      "metadata": {
        "colab": {
          "base_uri": "https://localhost:8080/"
        },
        "id": "ma5qhXkqb2q-",
        "outputId": "90b5a8d8-884f-4970-8671-fe1ccf97ddea"
      },
      "outputs": [
        {
          "data": {
            "text/plain": [
              "array([[0, 1, 2],\n",
              "       [3, 4, 5]])"
            ]
          },
          "execution_count": 76,
          "metadata": {},
          "output_type": "execute_result"
        }
      ],
      "source": [
        "arr1"
      ]
    },
    {
      "cell_type": "code",
      "execution_count": null,
      "metadata": {
        "colab": {
          "base_uri": "https://localhost:8080/"
        },
        "id": "LQhTn-W2cVFc",
        "outputId": "b3c1ef02-6c8e-49ec-ef60-bd82844a8bef"
      },
      "outputs": [
        {
          "data": {
            "text/plain": [
              "array([ 0,  1,  3,  6, 10, 15])"
            ]
          },
          "execution_count": 77,
          "metadata": {},
          "output_type": "execute_result"
        }
      ],
      "source": [
        "np.cumsum(arr1) # ketma - ket qoshib boradi"
      ]
    },
    {
      "cell_type": "code",
      "execution_count": null,
      "metadata": {
        "colab": {
          "background_save": true,
          "base_uri": "https://localhost:8080/"
        },
        "id": "c3gLsiCjcgGz",
        "outputId": "d3520326-16bd-4f72-bde8-da1fa5bbb3fd"
      },
      "outputs": [
        {
          "ename": "NameError",
          "evalue": "ignored",
          "output_type": "error",
          "traceback": [
            "\u001b[0;31m---------------------------------------------------------------------------\u001b[0m",
            "\u001b[0;31mNameError\u001b[0m                                 Traceback (most recent call last)",
            "\u001b[0;32m<ipython-input-81-ad130e524e05>\u001b[0m in \u001b[0;36m<cell line: 2>\u001b[0;34m()\u001b[0m\n\u001b[1;32m      1\u001b[0m \u001b[0;31m# sodda kod\u001b[0m\u001b[0;34m\u001b[0m\u001b[0;34m\u001b[0m\u001b[0m\n\u001b[0;32m----> 2\u001b[0;31m \u001b[0morta\u001b[0m \u001b[0;34m=\u001b[0m \u001b[0msum\u001b[0m\u001b[0;34m(\u001b[0m\u001b[0marr\u001b[0m\u001b[0;34m)\u001b[0m\u001b[0;34m/\u001b[0m\u001b[0mlen\u001b[0m\u001b[0;34m(\u001b[0m\u001b[0marr\u001b[0m\u001b[0;34m)\u001b[0m\u001b[0;34m\u001b[0m\u001b[0;34m\u001b[0m\u001b[0m\n\u001b[0m\u001b[1;32m      3\u001b[0m \u001b[0morta\u001b[0m\u001b[0;34m\u001b[0m\u001b[0;34m\u001b[0m\u001b[0m\n",
            "\u001b[0;31mNameError\u001b[0m: name 'arr' is not defined"
          ]
        }
      ],
      "source": [
        "# sodda kod\n",
        "orta = sum(arr)/len(arr)\n",
        "orta"
      ]
    },
    {
      "cell_type": "code",
      "execution_count": null,
      "metadata": {
        "colab": {
          "base_uri": "https://localhost:8080/"
        },
        "id": "B3ll-xmbdBIJ",
        "outputId": "a4a9ed1b-11cd-4edf-d553-430e6f570525"
      },
      "outputs": [
        {
          "data": {
            "text/plain": [
              "0.46784504687137024"
            ]
          },
          "execution_count": 80,
          "metadata": {},
          "output_type": "execute_result"
        }
      ],
      "source": [
        "np.mean(arrr)"
      ]
    },
    {
      "cell_type": "code",
      "execution_count": null,
      "metadata": {
        "id": "mZLxei5pdWwN"
      },
      "outputs": [],
      "source": []
    }
  ],
  "metadata": {
    "colab": {
      "provenance": [],
      "authorship_tag": "ABX9TyNPNB+Qjmhd352Ndk38BPe+",
      "include_colab_link": true
    },
    "kernelspec": {
      "display_name": "Python 3",
      "name": "python3"
    },
    "language_info": {
      "name": "python"
    }
  },
  "nbformat": 4,
  "nbformat_minor": 0
}